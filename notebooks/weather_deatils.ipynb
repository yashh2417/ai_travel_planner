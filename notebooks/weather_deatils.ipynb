{
 "cells": [
  {
   "cell_type": "code",
   "execution_count": 1,
   "id": "7fcb821a",
   "metadata": {},
   "outputs": [
    {
     "name": "stdout",
     "output_type": "stream",
     "text": [
      "Requirement already satisfied: langgraph in /Users/yash/Library/ai-travel-planner/.travelai/lib/python3.10/site-packages (0.5.1)\n",
      "Requirement already satisfied: langchain in /Users/yash/Library/ai-travel-planner/.travelai/lib/python3.10/site-packages (0.3.26)\n",
      "Requirement already satisfied: langchain-google-genai in /Users/yash/Library/ai-travel-planner/.travelai/lib/python3.10/site-packages (2.0.10)\n",
      "Requirement already satisfied: google-generativeai in /Users/yash/Library/ai-travel-planner/.travelai/lib/python3.10/site-packages (0.8.5)\n",
      "Requirement already satisfied: langchain-core>=0.1 in /Users/yash/Library/ai-travel-planner/.travelai/lib/python3.10/site-packages (from langgraph) (0.3.68)\n",
      "Requirement already satisfied: langgraph-checkpoint<3.0.0,>=2.1.0 in /Users/yash/Library/ai-travel-planner/.travelai/lib/python3.10/site-packages (from langgraph) (2.1.0)\n",
      "Requirement already satisfied: langgraph-prebuilt<0.6.0,>=0.5.0 in /Users/yash/Library/ai-travel-planner/.travelai/lib/python3.10/site-packages (from langgraph) (0.5.2)\n",
      "Requirement already satisfied: langgraph-sdk<0.2.0,>=0.1.42 in /Users/yash/Library/ai-travel-planner/.travelai/lib/python3.10/site-packages (from langgraph) (0.1.72)\n",
      "Requirement already satisfied: pydantic>=2.7.4 in /Users/yash/Library/ai-travel-planner/.travelai/lib/python3.10/site-packages (from langgraph) (2.11.7)\n",
      "Requirement already satisfied: xxhash>=3.5.0 in /Users/yash/Library/ai-travel-planner/.travelai/lib/python3.10/site-packages (from langgraph) (3.5.0)\n",
      "Requirement already satisfied: ormsgpack>=1.10.0 in /Users/yash/Library/ai-travel-planner/.travelai/lib/python3.10/site-packages (from langgraph-checkpoint<3.0.0,>=2.1.0->langgraph) (1.10.0)\n",
      "Requirement already satisfied: httpx>=0.25.2 in /Users/yash/Library/ai-travel-planner/.travelai/lib/python3.10/site-packages (from langgraph-sdk<0.2.0,>=0.1.42->langgraph) (0.28.1)\n",
      "Requirement already satisfied: orjson>=3.10.1 in /Users/yash/Library/ai-travel-planner/.travelai/lib/python3.10/site-packages (from langgraph-sdk<0.2.0,>=0.1.42->langgraph) (3.10.18)\n",
      "Requirement already satisfied: langchain-text-splitters<1.0.0,>=0.3.8 in /Users/yash/Library/ai-travel-planner/.travelai/lib/python3.10/site-packages (from langchain) (0.3.8)\n",
      "Requirement already satisfied: langsmith>=0.1.17 in /Users/yash/Library/ai-travel-planner/.travelai/lib/python3.10/site-packages (from langchain) (0.4.4)\n",
      "Requirement already satisfied: SQLAlchemy<3,>=1.4 in /Users/yash/Library/ai-travel-planner/.travelai/lib/python3.10/site-packages (from langchain) (2.0.41)\n",
      "Requirement already satisfied: requests<3,>=2 in /Users/yash/Library/ai-travel-planner/.travelai/lib/python3.10/site-packages (from langchain) (2.32.4)\n",
      "Requirement already satisfied: PyYAML>=5.3 in /Users/yash/Library/ai-travel-planner/.travelai/lib/python3.10/site-packages (from langchain) (6.0.2)\n",
      "Requirement already satisfied: async-timeout<5.0.0,>=4.0.0 in /Users/yash/Library/ai-travel-planner/.travelai/lib/python3.10/site-packages (from langchain) (4.0.3)\n",
      "Requirement already satisfied: tenacity!=8.4.0,<10.0.0,>=8.1.0 in /Users/yash/Library/ai-travel-planner/.travelai/lib/python3.10/site-packages (from langchain-core>=0.1->langgraph) (9.1.2)\n",
      "Requirement already satisfied: jsonpatch<2.0,>=1.33 in /Users/yash/Library/ai-travel-planner/.travelai/lib/python3.10/site-packages (from langchain-core>=0.1->langgraph) (1.33)\n",
      "Requirement already satisfied: packaging<25,>=23.2 in /Users/yash/Library/ai-travel-planner/.travelai/lib/python3.10/site-packages (from langchain-core>=0.1->langgraph) (24.2)\n",
      "Requirement already satisfied: typing-extensions>=4.7 in /Users/yash/Library/ai-travel-planner/.travelai/lib/python3.10/site-packages (from langchain-core>=0.1->langgraph) (4.14.1)\n",
      "Requirement already satisfied: jsonpointer>=1.9 in /Users/yash/Library/ai-travel-planner/.travelai/lib/python3.10/site-packages (from jsonpatch<2.0,>=1.33->langchain-core>=0.1->langgraph) (3.0.0)\n",
      "Requirement already satisfied: annotated-types>=0.6.0 in /Users/yash/Library/ai-travel-planner/.travelai/lib/python3.10/site-packages (from pydantic>=2.7.4->langgraph) (0.7.0)\n",
      "Requirement already satisfied: pydantic-core==2.33.2 in /Users/yash/Library/ai-travel-planner/.travelai/lib/python3.10/site-packages (from pydantic>=2.7.4->langgraph) (2.33.2)\n",
      "Requirement already satisfied: typing-inspection>=0.4.0 in /Users/yash/Library/ai-travel-planner/.travelai/lib/python3.10/site-packages (from pydantic>=2.7.4->langgraph) (0.4.1)\n",
      "Requirement already satisfied: charset_normalizer<4,>=2 in /Users/yash/Library/ai-travel-planner/.travelai/lib/python3.10/site-packages (from requests<3,>=2->langchain) (3.4.2)\n",
      "Requirement already satisfied: idna<4,>=2.5 in /Users/yash/Library/ai-travel-planner/.travelai/lib/python3.10/site-packages (from requests<3,>=2->langchain) (3.10)\n",
      "Requirement already satisfied: urllib3<3,>=1.21.1 in /Users/yash/Library/ai-travel-planner/.travelai/lib/python3.10/site-packages (from requests<3,>=2->langchain) (2.5.0)\n",
      "Requirement already satisfied: certifi>=2017.4.17 in /Users/yash/Library/ai-travel-planner/.travelai/lib/python3.10/site-packages (from requests<3,>=2->langchain) (2025.6.15)\n",
      "Requirement already satisfied: filetype<2.0.0,>=1.2.0 in /Users/yash/Library/ai-travel-planner/.travelai/lib/python3.10/site-packages (from langchain-google-genai) (1.2.0)\n",
      "Requirement already satisfied: google-ai-generativelanguage==0.6.15 in /Users/yash/Library/ai-travel-planner/.travelai/lib/python3.10/site-packages (from google-generativeai) (0.6.15)\n",
      "Requirement already satisfied: google-api-core in /Users/yash/Library/ai-travel-planner/.travelai/lib/python3.10/site-packages (from google-generativeai) (2.25.1)\n",
      "Requirement already satisfied: google-api-python-client in /Users/yash/Library/ai-travel-planner/.travelai/lib/python3.10/site-packages (from google-generativeai) (2.175.0)\n",
      "Requirement already satisfied: google-auth>=2.15.0 in /Users/yash/Library/ai-travel-planner/.travelai/lib/python3.10/site-packages (from google-generativeai) (2.40.3)\n",
      "Requirement already satisfied: protobuf in /Users/yash/Library/ai-travel-planner/.travelai/lib/python3.10/site-packages (from google-generativeai) (5.29.5)\n",
      "Requirement already satisfied: tqdm in /Users/yash/Library/ai-travel-planner/.travelai/lib/python3.10/site-packages (from google-generativeai) (4.67.1)\n",
      "Requirement already satisfied: proto-plus<2.0.0dev,>=1.22.3 in /Users/yash/Library/ai-travel-planner/.travelai/lib/python3.10/site-packages (from google-ai-generativelanguage==0.6.15->google-generativeai) (1.26.1)\n",
      "Requirement already satisfied: googleapis-common-protos<2.0.0,>=1.56.2 in /Users/yash/Library/ai-travel-planner/.travelai/lib/python3.10/site-packages (from google-api-core->google-generativeai) (1.70.0)\n",
      "Requirement already satisfied: grpcio<2.0.0,>=1.33.2 in /Users/yash/Library/ai-travel-planner/.travelai/lib/python3.10/site-packages (from google-api-core[grpc]!=2.0.*,!=2.1.*,!=2.10.*,!=2.2.*,!=2.3.*,!=2.4.*,!=2.5.*,!=2.6.*,!=2.7.*,!=2.8.*,!=2.9.*,<3.0.0dev,>=1.34.1->google-ai-generativelanguage==0.6.15->google-generativeai) (1.73.1)\n",
      "Requirement already satisfied: grpcio-status<2.0.0,>=1.33.2 in /Users/yash/Library/ai-travel-planner/.travelai/lib/python3.10/site-packages (from google-api-core[grpc]!=2.0.*,!=2.1.*,!=2.10.*,!=2.2.*,!=2.3.*,!=2.4.*,!=2.5.*,!=2.6.*,!=2.7.*,!=2.8.*,!=2.9.*,<3.0.0dev,>=1.34.1->google-ai-generativelanguage==0.6.15->google-generativeai) (1.71.2)\n",
      "Requirement already satisfied: cachetools<6.0,>=2.0.0 in /Users/yash/Library/ai-travel-planner/.travelai/lib/python3.10/site-packages (from google-auth>=2.15.0->google-generativeai) (5.5.2)\n",
      "Requirement already satisfied: pyasn1-modules>=0.2.1 in /Users/yash/Library/ai-travel-planner/.travelai/lib/python3.10/site-packages (from google-auth>=2.15.0->google-generativeai) (0.4.2)\n",
      "Requirement already satisfied: rsa<5,>=3.1.4 in /Users/yash/Library/ai-travel-planner/.travelai/lib/python3.10/site-packages (from google-auth>=2.15.0->google-generativeai) (4.9.1)\n",
      "Requirement already satisfied: pyasn1>=0.1.3 in /Users/yash/Library/ai-travel-planner/.travelai/lib/python3.10/site-packages (from rsa<5,>=3.1.4->google-auth>=2.15.0->google-generativeai) (0.6.1)\n",
      "Requirement already satisfied: anyio in /Users/yash/Library/ai-travel-planner/.travelai/lib/python3.10/site-packages (from httpx>=0.25.2->langgraph-sdk<0.2.0,>=0.1.42->langgraph) (4.9.0)\n",
      "Requirement already satisfied: httpcore==1.* in /Users/yash/Library/ai-travel-planner/.travelai/lib/python3.10/site-packages (from httpx>=0.25.2->langgraph-sdk<0.2.0,>=0.1.42->langgraph) (1.0.9)\n",
      "Requirement already satisfied: h11>=0.16 in /Users/yash/Library/ai-travel-planner/.travelai/lib/python3.10/site-packages (from httpcore==1.*->httpx>=0.25.2->langgraph-sdk<0.2.0,>=0.1.42->langgraph) (0.16.0)\n",
      "Requirement already satisfied: requests-toolbelt<2.0.0,>=1.0.0 in /Users/yash/Library/ai-travel-planner/.travelai/lib/python3.10/site-packages (from langsmith>=0.1.17->langchain) (1.0.0)\n",
      "Requirement already satisfied: zstandard<0.24.0,>=0.23.0 in /Users/yash/Library/ai-travel-planner/.travelai/lib/python3.10/site-packages (from langsmith>=0.1.17->langchain) (0.23.0)\n",
      "Requirement already satisfied: exceptiongroup>=1.0.2 in /Users/yash/Library/ai-travel-planner/.travelai/lib/python3.10/site-packages (from anyio->httpx>=0.25.2->langgraph-sdk<0.2.0,>=0.1.42->langgraph) (1.3.0)\n",
      "Requirement already satisfied: sniffio>=1.1 in /Users/yash/Library/ai-travel-planner/.travelai/lib/python3.10/site-packages (from anyio->httpx>=0.25.2->langgraph-sdk<0.2.0,>=0.1.42->langgraph) (1.3.1)\n",
      "Requirement already satisfied: httplib2<1.0.0,>=0.19.0 in /Users/yash/Library/ai-travel-planner/.travelai/lib/python3.10/site-packages (from google-api-python-client->google-generativeai) (0.22.0)\n",
      "Requirement already satisfied: google-auth-httplib2<1.0.0,>=0.2.0 in /Users/yash/Library/ai-travel-planner/.travelai/lib/python3.10/site-packages (from google-api-python-client->google-generativeai) (0.2.0)\n",
      "Requirement already satisfied: uritemplate<5,>=3.0.1 in /Users/yash/Library/ai-travel-planner/.travelai/lib/python3.10/site-packages (from google-api-python-client->google-generativeai) (4.2.0)\n",
      "Requirement already satisfied: pyparsing!=3.0.0,!=3.0.1,!=3.0.2,!=3.0.3,<4,>=2.4.2 in /Users/yash/Library/ai-travel-planner/.travelai/lib/python3.10/site-packages (from httplib2<1.0.0,>=0.19.0->google-api-python-client->google-generativeai) (3.2.3)\n"
     ]
    }
   ],
   "source": [
    "!pip install langgraph langchain langchain-google-genai google-generativeai"
   ]
  },
  {
   "cell_type": "code",
   "execution_count": 2,
   "id": "ab5012e8",
   "metadata": {},
   "outputs": [
    {
     "data": {
      "text/plain": [
       "True"
      ]
     },
     "execution_count": 2,
     "metadata": {},
     "output_type": "execute_result"
    }
   ],
   "source": [
    "from langchain.tools import tool\n",
    "import requests\n",
    "from dotenv import load_dotenv\n",
    "import os\n",
    "\n",
    "load_dotenv()"
   ]
  },
  {
   "cell_type": "code",
   "execution_count": 3,
   "id": "7224255d",
   "metadata": {},
   "outputs": [],
   "source": [
    "@tool\n",
    "def get_weather(city: str) -> str:\n",
    "    \"\"\"Get current weather for a given city using WeatherAPI.com.\"\"\"\n",
    "    api_key = os.getenv(\"WEATHER_API_KEY\")\n",
    "    if not api_key:\n",
    "        return \"WeatherAPI key not set. Please set WEATHER_API_KEY environment variable.\"\n",
    "\n",
    "    url = f\"http://api.weatherapi.com/v1/current.json?key={api_key}&q={city}&aqi=no\"\n",
    "    response = requests.get(url)\n",
    "    return response.json()\n",
    "    # if response.status_code != 200:\n",
    "    #     return f\"Failed to fetch weather data: {response.json().get('error', {}).get('message', 'Unknown error')}\"\n",
    "\n",
    "    # data = response.json()\n",
    "    # location = data[\"location\"][\"name\"]\n",
    "    # country = data[\"location\"][\"country\"]\n",
    "    # temp_c = data[\"current\"][\"temp_c\"]\n",
    "    # condition = data[\"current\"][\"condition\"][\"text\"]\n",
    "    # wind_kph = data[\"current\"][\"wind_kph\"]\n",
    "\n",
    "    # return f\"The weather in {location}, {country} is {condition} with {temp_c}°C temperature and wind speed of {wind_kph} kph.\""
   ]
  },
  {
   "cell_type": "code",
   "execution_count": 4,
   "id": "71c7e6be",
   "metadata": {},
   "outputs": [
    {
     "name": "stderr",
     "output_type": "stream",
     "text": [
      "/Users/yash/Library/ai-travel-planner/.travelai/lib/python3.10/site-packages/tqdm/auto.py:21: TqdmWarning: IProgress not found. Please update jupyter and ipywidgets. See https://ipywidgets.readthedocs.io/en/stable/user_install.html\n",
      "  from .autonotebook import tqdm as notebook_tqdm\n",
      "/var/folders/v3/hj2d2g150gld7k2cm6q9d9gh0000gn/T/ipykernel_21363/2058371853.py:7: LangChainDeprecationWarning: LangChain agents will continue to be supported, but it is recommended for new use cases to be built with LangGraph. LangGraph offers a more flexible and full-featured framework for building agents, including support for tool-calling, persistence of state, and human-in-the-loop workflows. For details, refer to the `LangGraph documentation <https://langchain-ai.github.io/langgraph/>`_ as well as guides for `Migrating from AgentExecutor <https://python.langchain.com/docs/how_to/migrate_agent/>`_ and LangGraph's `Pre-built ReAct agent <https://langchain-ai.github.io/langgraph/how-tos/create-react-agent/>`_.\n",
      "  agent = initialize_agent(\n",
      "/var/folders/v3/hj2d2g150gld7k2cm6q9d9gh0000gn/T/ipykernel_21363/2058371853.py:15: LangChainDeprecationWarning: The method `Chain.run` was deprecated in langchain 0.1.0 and will be removed in 1.0. Use :meth:`~invoke` instead.\n",
      "  print(agent.run(\"What is the weather in Noida, Uttar Pradesh right now?\"))\n"
     ]
    },
    {
     "name": "stdout",
     "output_type": "stream",
     "text": [
      "\n",
      "\n",
      "\u001b[1m> Entering new AgentExecutor chain...\u001b[0m\n",
      "\u001b[32;1m\u001b[1;3mI need to find the current weather conditions in Noida, Uttar Pradesh. I can use the get_weather tool to get this information.\n",
      "Action: get_weather\n",
      "Action Input: Noida, Uttar Pradesh\u001b[0m\n",
      "Observation: \u001b[36;1m\u001b[1;3m{'location': {'name': 'Noida', 'region': 'Uttar Pradesh', 'country': 'India', 'lat': 28.57, 'lon': 77.32, 'tz_id': 'Asia/Kolkata', 'localtime_epoch': 1752208807, 'localtime': '2025-07-11 10:10'}, 'current': {'last_updated_epoch': 1752208200, 'last_updated': '2025-07-11 10:00', 'temp_c': 30.3, 'temp_f': 86.5, 'is_day': 1, 'condition': {'text': 'Mist', 'icon': '//cdn.weatherapi.com/weather/64x64/day/143.png', 'code': 1030}, 'wind_mph': 6.0, 'wind_kph': 9.7, 'wind_degree': 175, 'wind_dir': 'S', 'pressure_mb': 1003.0, 'pressure_in': 29.62, 'precip_mm': 0.23, 'precip_in': 0.01, 'humidity': 75, 'cloud': 75, 'feelslike_c': 33.5, 'feelslike_f': 92.3, 'windchill_c': 31.4, 'windchill_f': 88.5, 'heatindex_c': 35.7, 'heatindex_f': 96.2, 'dewpoint_c': 22.4, 'dewpoint_f': 72.4, 'vis_km': 3.0, 'vis_miles': 1.0, 'uv': 7.6, 'gust_mph': 8.7, 'gust_kph': 14.0}}\u001b[0m\n",
      "Thought:\u001b[32;1m\u001b[1;3mI have the weather information for Noida, Uttar Pradesh. The current conditions are Mist, with a temperature of 30.3 degrees Celsius, feels like 33.5 degrees Celsius.\n",
      "Final Answer: The weather in Noida, Uttar Pradesh is currently Mist with a temperature of 30.3 degrees Celsius, but it feels like 33.5 degrees Celsius.\u001b[0m\n",
      "\n",
      "\u001b[1m> Finished chain.\u001b[0m\n",
      "The weather in Noida, Uttar Pradesh is currently Mist with a temperature of 30.3 degrees Celsius, but it feels like 33.5 degrees Celsius.\n"
     ]
    }
   ],
   "source": [
    "from langchain_google_genai import ChatGoogleGenerativeAI\n",
    "from langchain.agents import initialize_agent, AgentType\n",
    "\n",
    "llm = ChatGoogleGenerativeAI(model=\"gemini-2.0-flash\", api_key=os.getenv(\"GOOGLE_API_KEY\"))\n",
    "tools = [get_weather]\n",
    "\n",
    "agent = initialize_agent(\n",
    "    tools=tools,\n",
    "    llm=llm,\n",
    "    agent=AgentType.ZERO_SHOT_REACT_DESCRIPTION,\n",
    "    verbose=True\n",
    ")\n",
    "\n",
    "# Example run\n",
    "print(agent.run(\"What is the weather in Noida, Uttar Pradesh right now?\"))"
   ]
  },
  {
   "cell_type": "code",
   "execution_count": 5,
   "id": "67460c17",
   "metadata": {},
   "outputs": [
    {
     "name": "stdout",
     "output_type": "stream",
     "text": [
      "\n",
      "\n",
      "\u001b[1m> Entering new AgentExecutor chain...\u001b[0m\n",
      "\u001b[32;1m\u001b[1;3mI need to find out the current weather conditions in Pilkhuwa, Uttar Pradesh. I have access to a tool called `get_weather` which should provide this information.\n",
      "Action: get_weather\n",
      "Action Input: pilkhuwa, Uttar Pradesh\u001b[0m\n",
      "Observation: \u001b[36;1m\u001b[1;3m{'location': {'name': 'Pilkhuwa', 'region': 'Uttar Pradesh', 'country': 'India', 'lat': 28.7167, 'lon': 77.65, 'tz_id': 'Asia/Kolkata', 'localtime_epoch': 1752208815, 'localtime': '2025-07-11 10:10'}, 'current': {'last_updated_epoch': 1752208200, 'last_updated': '2025-07-11 10:00', 'temp_c': 30.3, 'temp_f': 86.5, 'is_day': 1, 'condition': {'text': 'Mist', 'icon': '//cdn.weatherapi.com/weather/64x64/day/143.png', 'code': 1030}, 'wind_mph': 6.0, 'wind_kph': 9.7, 'wind_degree': 175, 'wind_dir': 'S', 'pressure_mb': 1003.0, 'pressure_in': 29.62, 'precip_mm': 0.39, 'precip_in': 0.02, 'humidity': 75, 'cloud': 75, 'feelslike_c': 33.8, 'feelslike_f': 92.9, 'windchill_c': 31.4, 'windchill_f': 88.6, 'heatindex_c': 36.2, 'heatindex_f': 97.2, 'dewpoint_c': 23.0, 'dewpoint_f': 73.4, 'vis_km': 3.0, 'vis_miles': 1.0, 'uv': 7.5, 'gust_mph': 7.6, 'gust_kph': 12.2}}\u001b[0m\n",
      "Thought:\u001b[32;1m\u001b[1;3mI have the weather information for Pilkhuwa, Uttar Pradesh. The current weather is Mist, with a temperature of 30.3 degrees Celsius, feels like 33.8 degrees Celsius.\n",
      "Final Answer: The weather in Pilkhuwa, Uttar Pradesh is Mist with a temperature of 30.3 degrees Celsius, but it feels like 33.8 degrees Celsius.\u001b[0m\n",
      "\n",
      "\u001b[1m> Finished chain.\u001b[0m\n",
      "The weather in Pilkhuwa, Uttar Pradesh is Mist with a temperature of 30.3 degrees Celsius, but it feels like 33.8 degrees Celsius.\n"
     ]
    }
   ],
   "source": [
    "print(agent.run(\"What is the weather in pilkhuwa, Uttar Pradesh right now?\"))"
   ]
  },
  {
   "cell_type": "code",
   "execution_count": 6,
   "id": "6e1921bf",
   "metadata": {},
   "outputs": [],
   "source": [
    "import requests\n",
    "\n",
    "class WeatherForecastTool:\n",
    "    def __init__(self, api_key:str):\n",
    "        self.api_key = api_key\n",
    "        self.base_url = \"https://api.openweathermap.org/data/2.5\"\n",
    "\n",
    "    def get_current_weather(self, place:str):\n",
    "        \"\"\"Get current weather of a place\"\"\"\n",
    "        try:\n",
    "            url = f\"{self.base_url}/weather\"\n",
    "            params = {\n",
    "                \"q\": place,\n",
    "                \"appid\": self.api_key,\n",
    "            }\n",
    "            response = requests.get(url, params=params)\n",
    "            return response.json() if response.status_code == 200 else {}\n",
    "        except Exception as e:\n",
    "            raise e\n",
    "    \n",
    "    def get_forecast_weather(self, place:str):\n",
    "        \"\"\"Get weather forecast of a place\"\"\"\n",
    "        try:\n",
    "            url = f\"{self.base_url}/forecast\"\n",
    "            params = {\n",
    "                \"q\": place,\n",
    "                \"appid\": self.api_key,\n",
    "                \"cnt\": 40,\n",
    "                \"units\": \"metric\"\n",
    "            }\n",
    "            response = requests.get(url, params=params)\n",
    "            return response.json() if response.status_code == 200 else {}\n",
    "        except Exception as e:\n",
    "            raise e"
   ]
  },
  {
   "cell_type": "code",
   "execution_count": 7,
   "id": "f3337ab8",
   "metadata": {},
   "outputs": [],
   "source": [
    "import os\n",
    "# from utils.weather_info import WeatherForecastTool\n",
    "from langchain.tools import tool\n",
    "from typing import List\n",
    "from dotenv import load_dotenv\n",
    "\n",
    "class WeatherInfoTool:\n",
    "    def __init__(self):\n",
    "        load_dotenv()\n",
    "        self.api_key = os.environ.get(\"OPENWEATHERMAP_API_KEY\")\n",
    "        self.weather_service = WeatherForecastTool(self.api_key)\n",
    "        self.weather_tool_list = self._setup_tools()\n",
    "    \n",
    "    def _setup_tools(self) -> List:\n",
    "        \"\"\"Setup all tools for the weather forecast tool\"\"\"\n",
    "        @tool\n",
    "        def get_current_weather(city: str) -> str:\n",
    "            \"\"\"Get current weather for a city\"\"\"\n",
    "            weather_data = self.weather_service.get_current_weather(city)\n",
    "            if weather_data:\n",
    "                temp = weather_data.get('main', {}).get('temp', 'N/A')\n",
    "                desc = weather_data.get('weather', [{}])[0].get('description', 'N/A')\n",
    "                return f\"Current weather in {city}: {temp}°C, {desc}\"\n",
    "            return f\"Could not fetch weather for {city}\"\n",
    "        \n",
    "        @tool\n",
    "        def get_weather_forecast(city: str) -> str:\n",
    "            \"\"\"Get weather forecast for a city\"\"\"\n",
    "            forecast_data = self.weather_service.get_forecast_weather(city)\n",
    "            if forecast_data and 'list' in forecast_data:\n",
    "                forecast_summary = []\n",
    "                for i in range(len(forecast_data['list'])):\n",
    "                    item = forecast_data['list'][i]\n",
    "                    date = item['dt_txt'].split(' ')[0]\n",
    "                    temp = item['main']['temp']\n",
    "                    desc = item['weather'][0]['description']\n",
    "                    forecast_summary.append(f\"{date}: {temp} degree celcius , {desc}\")\n",
    "                return f\"Weather forecast for {city}:\\n\" + \"\\n\".join(forecast_summary)\n",
    "            return f\"Could not fetch forecast for {city}\"\n",
    "    \n",
    "        return [get_current_weather, get_weather_forecast]"
   ]
  },
  {
   "cell_type": "code",
   "execution_count": 8,
   "id": "876718dd",
   "metadata": {},
   "outputs": [
    {
     "name": "stdout",
     "output_type": "stream",
     "text": [
      "\n",
      "\n",
      "\u001b[1m> Entering new AgentExecutor chain...\u001b[0m\n",
      "\u001b[32;1m\u001b[1;3mI need to get the weather forecast for Delhi.\n",
      "Action: get_weather_forecast\n",
      "Action Input: Delhi\u001b[0m\n",
      "Observation: \u001b[33;1m\u001b[1;3mWeather forecast for Delhi:\n",
      "2025-07-11: 33.9 degree celcius , light rain\n",
      "2025-07-11: 33.99 degree celcius , light rain\n",
      "2025-07-11: 34.12 degree celcius , overcast clouds\n",
      "2025-07-11: 32.99 degree celcius , light rain\n",
      "2025-07-11: 31.94 degree celcius , light rain\n",
      "2025-07-11: 30.6 degree celcius , light rain\n",
      "2025-07-12: 30.76 degree celcius , light rain\n",
      "2025-07-12: 31.08 degree celcius , light rain\n",
      "2025-07-12: 34.84 degree celcius , light rain\n",
      "2025-07-12: 36.77 degree celcius , overcast clouds\n",
      "2025-07-12: 36.27 degree celcius , overcast clouds\n",
      "2025-07-12: 33.95 degree celcius , scattered clouds\n",
      "2025-07-12: 32.57 degree celcius , broken clouds\n",
      "2025-07-12: 32.57 degree celcius , overcast clouds\n",
      "2025-07-13: 31.96 degree celcius , broken clouds\n",
      "2025-07-13: 33.71 degree celcius , scattered clouds\n",
      "2025-07-13: 37.2 degree celcius , few clouds\n",
      "2025-07-13: 39.39 degree celcius , scattered clouds\n",
      "2025-07-13: 37.87 degree celcius , light rain\n",
      "2025-07-13: 35.65 degree celcius , light rain\n",
      "2025-07-13: 34.41 degree celcius , light rain\n",
      "2025-07-13: 32.96 degree celcius , overcast clouds\n",
      "2025-07-14: 32.04 degree celcius , overcast clouds\n",
      "2025-07-14: 30.77 degree celcius , light rain\n",
      "2025-07-14: 30.43 degree celcius , light rain\n",
      "2025-07-14: 32.57 degree celcius , light rain\n",
      "2025-07-14: 32 degree celcius , moderate rain\n",
      "2025-07-14: 30.45 degree celcius , light rain\n",
      "2025-07-14: 29.74 degree celcius , overcast clouds\n",
      "2025-07-14: 27.65 degree celcius , light rain\n",
      "2025-07-15: 27.43 degree celcius , light rain\n",
      "2025-07-15: 26.93 degree celcius , light rain\n",
      "2025-07-15: 27.26 degree celcius , light rain\n",
      "2025-07-15: 30.46 degree celcius , overcast clouds\n",
      "2025-07-15: 29.37 degree celcius , overcast clouds\n",
      "2025-07-15: 30.15 degree celcius , light rain\n",
      "2025-07-15: 29.2 degree celcius , light rain\n",
      "2025-07-15: 28.79 degree celcius , light rain\n",
      "2025-07-16: 26.88 degree celcius , moderate rain\n",
      "2025-07-16: 27.26 degree celcius , light rain\u001b[0m\n",
      "Thought:\u001b[32;1m\u001b[1;3mThe weather forecast for Delhi from 2025-07-11 to 2025-07-16 includes a mix of light rain, overcast clouds, scattered clouds, broken clouds, and few clouds. Temperatures will range from approximately 26.88 to 39.39 degrees Celsius.\n",
      "Final Answer: The weather forecast for Delhi from 2025-07-11 to 2025-07-16 includes a mix of light rain, overcast clouds, scattered clouds, broken clouds, and few clouds. Temperatures will range from approximately 26.88 to 39.39 degrees Celsius.\u001b[0m\n",
      "\n",
      "\u001b[1m> Finished chain.\u001b[0m\n"
     ]
    }
   ],
   "source": [
    "from langchain.chat_models import ChatOpenAI\n",
    "from langchain.agents import initialize_agent, AgentType\n",
    "\n",
    "tools = WeatherInfoTool().weather_tool_list\n",
    "llm = ChatGoogleGenerativeAI(model=\"gemini-2.0-flash\", api_key=os.getenv(\"GOOGLE_API_KEY\"))\n",
    "\n",
    "agent = initialize_agent(\n",
    "    tools=tools,\n",
    "    llm=llm,\n",
    "    agent=AgentType.ZERO_SHOT_REACT_DESCRIPTION,\n",
    "    verbose=True\n",
    ")\n",
    "\n",
    "response = agent.run(\"What's the weather forecast for Delhi?\")\n"
   ]
  },
  {
   "cell_type": "code",
   "execution_count": 9,
   "id": "ea55e44f",
   "metadata": {},
   "outputs": [
    {
     "name": "stdout",
     "output_type": "stream",
     "text": [
      "The weather forecast for Delhi from 2025-07-11 to 2025-07-16 includes a mix of light rain, overcast clouds, scattered clouds, broken clouds, and few clouds. Temperatures will range from approximately 26.88 to 39.39 degrees Celsius.\n"
     ]
    }
   ],
   "source": [
    "print(response)"
   ]
  },
  {
   "cell_type": "code",
   "execution_count": 10,
   "id": "b9d656a6",
   "metadata": {},
   "outputs": [
    {
     "name": "stdout",
     "output_type": "stream",
     "text": [
      "\n",
      "\n",
      "\u001b[1m> Entering new AgentExecutor chain...\u001b[0m\n",
      "\u001b[32;1m\u001b[1;3mI need to get the weather forecast for Noida.\n",
      "Action: get_weather_forecast\n",
      "Action Input: Noida\u001b[0m\n",
      "Observation: \u001b[33;1m\u001b[1;3mWeather forecast for Noida:\n",
      "2025-07-11: 32.51 degree celcius , light rain\n",
      "2025-07-11: 32.7 degree celcius , overcast clouds\n",
      "2025-07-11: 33.03 degree celcius , overcast clouds\n",
      "2025-07-11: 32.05 degree celcius , light rain\n",
      "2025-07-11: 31.2 degree celcius , light rain\n",
      "2025-07-11: 30.46 degree celcius , light rain\n",
      "2025-07-12: 30.31 degree celcius , scattered clouds\n",
      "2025-07-12: 31.63 degree celcius , broken clouds\n",
      "2025-07-12: 35.58 degree celcius , light rain\n",
      "2025-07-12: 37.63 degree celcius , overcast clouds\n",
      "2025-07-12: 36.82 degree celcius , broken clouds\n",
      "2025-07-12: 34.65 degree celcius , few clouds\n",
      "2025-07-12: 33.28 degree celcius , broken clouds\n",
      "2025-07-12: 32.67 degree celcius , overcast clouds\n",
      "2025-07-13: 32.02 degree celcius , broken clouds\n",
      "2025-07-13: 33.92 degree celcius , scattered clouds\n",
      "2025-07-13: 37.39 degree celcius , few clouds\n",
      "2025-07-13: 39.04 degree celcius , light rain\n",
      "2025-07-13: 36.55 degree celcius , light rain\n",
      "2025-07-13: 34.53 degree celcius , light rain\n",
      "2025-07-13: 33.13 degree celcius , overcast clouds\n",
      "2025-07-13: 32.3 degree celcius , overcast clouds\n",
      "2025-07-14: 31.32 degree celcius , overcast clouds\n",
      "2025-07-14: 30.22 degree celcius , light rain\n",
      "2025-07-14: 29.25 degree celcius , light rain\n",
      "2025-07-14: 33.38 degree celcius , light rain\n",
      "2025-07-14: 31.82 degree celcius , moderate rain\n",
      "2025-07-14: 29.93 degree celcius , light rain\n",
      "2025-07-14: 29.06 degree celcius , light rain\n",
      "2025-07-14: 27.2 degree celcius , light rain\n",
      "2025-07-15: 27.27 degree celcius , light rain\n",
      "2025-07-15: 26.75 degree celcius , moderate rain\n",
      "2025-07-15: 27.47 degree celcius , light rain\n",
      "2025-07-15: 30 degree celcius , overcast clouds\n",
      "2025-07-15: 29.91 degree celcius , overcast clouds\n",
      "2025-07-15: 29.95 degree celcius , overcast clouds\n",
      "2025-07-15: 29.07 degree celcius , light rain\n",
      "2025-07-15: 28.38 degree celcius , light rain\n",
      "2025-07-16: 26.42 degree celcius , moderate rain\n",
      "2025-07-16: 27.05 degree celcius , light rain\u001b[0m\n",
      "Thought:\u001b[32;1m\u001b[1;3mThe weather forecast for Noida includes a mix of light rain, overcast clouds, scattered clouds, broken clouds, and few clouds with temperatures ranging from 26.42 to 39.04 degrees Celsius between 2025-07-11 and 2025-07-16.\n",
      "Final Answer: The weather forecast for Noida includes a mix of light rain, overcast clouds, scattered clouds, broken clouds, and few clouds with temperatures ranging from 26.42 to 39.04 degrees Celsius between 2025-07-11 and 2025-07-16.\u001b[0m\n",
      "\n",
      "\u001b[1m> Finished chain.\u001b[0m\n"
     ]
    }
   ],
   "source": [
    "response = agent.run(\"What's the weather forecast for Noida?\")"
   ]
  },
  {
   "cell_type": "code",
   "execution_count": 11,
   "id": "c1382379",
   "metadata": {},
   "outputs": [
    {
     "name": "stdout",
     "output_type": "stream",
     "text": [
      "The weather forecast for Noida includes a mix of light rain, overcast clouds, scattered clouds, broken clouds, and few clouds with temperatures ranging from 26.42 to 39.04 degrees Celsius between 2025-07-11 and 2025-07-16.\n"
     ]
    }
   ],
   "source": [
    "print(response)"
   ]
  },
  {
   "cell_type": "code",
   "execution_count": 12,
   "id": "4138d241",
   "metadata": {},
   "outputs": [],
   "source": [
    "from collections import defaultdict\n",
    "from langchain.tools import tool\n",
    "from typing import List\n",
    "import os\n",
    "from dotenv import load_dotenv\n",
    "from datetime import datetime\n",
    "\n",
    "class WeatherInfoTool:\n",
    "    def __init__(self):\n",
    "        load_dotenv()\n",
    "        self.api_key = os.environ.get(\"OPENWEATHERMAP_API_KEY\")\n",
    "        self.weather_service = WeatherForecastTool(self.api_key)\n",
    "        self.weather_tool_list = self._setup_tools()\n",
    "    \n",
    "    def _setup_tools(self) -> List:\n",
    "        @tool\n",
    "        def get_current_weather(city: str) -> str:\n",
    "            \"\"\"Get current weather for a city\"\"\"\n",
    "            weather_data = self.weather_service.get_current_weather(city)\n",
    "            if weather_data:\n",
    "                temp = weather_data.get('main', {}).get('temp', 'N/A')\n",
    "                desc = weather_data.get('weather', [{}])[0].get('description', 'N/A')\n",
    "                return f\"Current weather in {city}: {temp}°C, {desc}\"\n",
    "            return f\"Could not fetch weather for {city}\"\n",
    "        \n",
    "        @tool\n",
    "        def get_weather_forecast(city: str) -> str:\n",
    "            \"\"\"Get 5-day forecast summary (daily) for a city\"\"\"\n",
    "            forecast_data = self.weather_service.get_forecast_weather(city)\n",
    "            if forecast_data and 'list' in forecast_data:\n",
    "                daily = defaultdict(list)\n",
    "                for item in forecast_data['list']:\n",
    "                    date = item['dt_txt'].split(' ')[0]\n",
    "                    temp = item['main']['temp']\n",
    "                    desc = item['weather'][0]['description']\n",
    "                    daily[date].append((temp, desc))\n",
    "\n",
    "                summary = []\n",
    "                for date, entries in daily.items():\n",
    "                    temps = [t for t, _ in entries]\n",
    "                    descriptions = [d for _, d in entries]\n",
    "                    common_desc = max(set(descriptions), key=descriptions.count)\n",
    "                    min_temp = round(min(temps), 1)\n",
    "                    max_temp = round(max(temps), 1)\n",
    "                    emoji = self._emoji_for_description(common_desc)\n",
    "\n",
    "                    summary.append(\n",
    "                        f\"📅 {date}: {emoji} {common_desc.title()}, {min_temp}°C – {max_temp}°C\"\n",
    "                    )\n",
    "                return f\"Weather forecast for {city.title()}:\\n\\n\" + \"\\n\".join(summary)\n",
    "            return f\"Could not fetch forecast for {city}\"\n",
    "\n",
    "        return [get_current_weather, get_weather_forecast]\n",
    "\n",
    "    def _emoji_for_description(self, desc: str) -> str:\n",
    "        \"\"\"Map basic weather descriptions to emojis\"\"\"\n",
    "        desc = desc.lower()\n",
    "        if \"rain\" in desc: return \"🌧️\"\n",
    "        if \"cloud\" in desc: return \"☁️\"\n",
    "        if \"clear\" in desc: return \"☀️\"\n",
    "        if \"snow\" in desc: return \"❄️\"\n",
    "        if \"thunder\" in desc: return \"⛈️\"\n",
    "        return \"🌤️\"\n"
   ]
  },
  {
   "cell_type": "code",
   "execution_count": 13,
   "id": "e0af825a",
   "metadata": {},
   "outputs": [
    {
     "name": "stdout",
     "output_type": "stream",
     "text": [
      "\n",
      "\n",
      "\u001b[1m> Entering new AgentExecutor chain...\u001b[0m\n",
      "\u001b[32;1m\u001b[1;3mI need to get the weather forecast for Pilkhuwa.\n",
      "Action: get_weather_forecast\n",
      "Action Input: Pilkhuwa\u001b[0m\n",
      "Observation: \u001b[33;1m\u001b[1;3mWeather forecast for Pilkhuwa:\n",
      "\n",
      "📅 2025-07-11: 🌧️ Light Rain, 27.3°C – 31.7°C\n",
      "📅 2025-07-12: ☁️ Overcast Clouds, 27.3°C – 35.8°C\n",
      "📅 2025-07-13: 🌧️ Light Rain, 28.6°C – 37.0°C\n",
      "📅 2025-07-14: 🌧️ Light Rain, 25.9°C – 30.9°C\n",
      "📅 2025-07-15: 🌧️ Light Rain, 25.1°C – 29.8°C\n",
      "📅 2025-07-16: 🌧️ Light Rain, 24.9°C – 25.5°C\u001b[0m\n",
      "Thought:\u001b[32;1m\u001b[1;3mI have the weather forecast for Pilkhuwa for the next 5 days.\n",
      "Final Answer: The weather forecast for Pilkhuwa is: 2025-07-11: Light Rain, 27.3°C – 31.7°C; 2025-07-12: Overcast Clouds, 27.3°C – 35.8°C; 2025-07-13: Light Rain, 28.6°C – 37.0°C; 2025-07-14: Light Rain, 25.9°C – 30.9°C; 2025-07-15: Light Rain, 25.1°C – 29.8°C. 2025-07-16: Light Rain, 24.9°C – 25.5°C\u001b[0m\n",
      "\n",
      "\u001b[1m> Finished chain.\u001b[0m\n"
     ]
    }
   ],
   "source": [
    "from langchain.agents import initialize_agent, AgentType\n",
    "\n",
    "tools = WeatherInfoTool().weather_tool_list\n",
    "llm = ChatGoogleGenerativeAI(model=\"gemini-2.0-flash\", api_key=os.getenv(\"GOOGLE_API_KEY\"))\n",
    "\n",
    "agent = initialize_agent(\n",
    "    tools=tools,\n",
    "    llm=llm,\n",
    "    agent=AgentType.ZERO_SHOT_REACT_DESCRIPTION,\n",
    "    verbose=True\n",
    ")\n",
    "\n",
    "response = agent.run(\"What's the weather forecast for Pilkhuwa?\")\n"
   ]
  },
  {
   "cell_type": "code",
   "execution_count": 14,
   "id": "876e036f",
   "metadata": {},
   "outputs": [
    {
     "name": "stdout",
     "output_type": "stream",
     "text": [
      "The weather forecast for Pilkhuwa is: 2025-07-11: Light Rain, 27.3°C – 31.7°C; 2025-07-12: Overcast Clouds, 27.3°C – 35.8°C; 2025-07-13: Light Rain, 28.6°C – 37.0°C; 2025-07-14: Light Rain, 25.9°C – 30.9°C; 2025-07-15: Light Rain, 25.1°C – 29.8°C. 2025-07-16: Light Rain, 24.9°C – 25.5°C\n"
     ]
    }
   ],
   "source": [
    "print(response)"
   ]
  },
  {
   "cell_type": "code",
   "execution_count": 16,
   "id": "3f8c97a8",
   "metadata": {},
   "outputs": [
    {
     "name": "stdout",
     "output_type": "stream",
     "text": [
      "The weather forecast for Pilkhuwa is: 2025-07-11: Light Rain, 27.3°C – 31.7°C\n",
      " 2025-07-12: Overcast Clouds, 27.3°C – 35.8°C\n",
      " 2025-07-13: Light Rain, 28.6°C – 37.0°C\n",
      " 2025-07-14: Light Rain, 25.9°C – 30.9°C\n",
      " 2025-07-15: Light Rain, 25.1°C – 29.8°C. 2025-07-16: Light Rain, 24.9°C – 25.5°C\n"
     ]
    }
   ],
   "source": [
    "ls = response.split(\";\")\n",
    "for i in range(len(ls)):\n",
    "    print(ls[i])"
   ]
  },
  {
   "cell_type": "code",
   "execution_count": null,
   "id": "08b128a2",
   "metadata": {},
   "outputs": [],
   "source": []
  }
 ],
 "metadata": {
  "kernelspec": {
   "display_name": "Python 3",
   "language": "python",
   "name": "python3"
  },
  "language_info": {
   "codemirror_mode": {
    "name": "ipython",
    "version": 3
   },
   "file_extension": ".py",
   "mimetype": "text/x-python",
   "name": "python",
   "nbconvert_exporter": "python",
   "pygments_lexer": "ipython3",
   "version": "3.10.18"
  }
 },
 "nbformat": 4,
 "nbformat_minor": 5
}
